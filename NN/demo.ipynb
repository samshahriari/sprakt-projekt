{
 "cells": [
  {
   "cell_type": "code",
   "execution_count": 37,
   "id": "94f83a01-edb9-4282-90b9-fd3bd37d5524",
   "metadata": {},
   "outputs": [
    {
     "name": "stdout",
     "output_type": "stream",
     "text": [
      "tensor([ 101, 6251, 2487,  102, 6251, 1015,  102])\n",
      "['[CLS]', 'sentence', '##1', '[SEP]', 'sentence', '1', '[SEP]']\n",
      "[CLS] sentence1 [SEP] sentence 1 [SEP]\n"
     ]
    }
   ],
   "source": [
    "from transformers import AutoTokenizer, DataCollatorWithPadding, AutoModelForSequenceClassification\n",
    "import torch\n",
    "\n",
    "checkpoint = \"sentence-transformers/all-MiniLM-L6-v2\"\n",
    "tokenizer = AutoTokenizer.from_pretrained(checkpoint)\n",
    "model = AutoModelForSequenceClassification.from_pretrained(\"finetuned-model/\")\n",
    "\n",
    "def tokenize_function(s1, s2):\n",
    "    return tokenizer(s1,s2, truncation=True)\n",
    "\n",
    "\n",
    "\n",
    "tokenized_data = tokenize_function(\"Sentence1\", \"sentence 1\")\n",
    "input_ids = torch.tensor([tokenized_data[\"input_ids\"]])\n",
    "\n",
    "\n",
    "\n",
    "\n",
    "\n",
    "print(input_ids[0])\n",
    "print(tokenizer.convert_ids_to_tokens(input_ids[0]))\n",
    "print(tokenizer.decode(input_ids[0]))\n"
   ]
  },
  {
   "cell_type": "code",
   "execution_count": 40,
   "id": "39f5d7d4-84c8-45d5-8dda-f0189cdb96f9",
   "metadata": {},
   "outputs": [
    {
     "name": "stdout",
     "output_type": "stream",
     "text": [
      "Predictions: same\n",
      "tensor([[0.0592, 0.9408]], grad_fn=<SoftmaxBackward0>)\n"
     ]
    }
   ],
   "source": [
    "###############################################\n",
    "sentence1 = \"Why do the Dubai Police have super cars?\"\n",
    "sentence2 = \"Why does Dubai Police drive fast car?\"\n",
    "\n",
    "# sentence1 = \"Which Lord of the Rings film was the best?\"\n",
    "# sentence2 = \"Who is the best actor in the Lord of the Rings film trilogy?\"\n",
    "\n",
    "# sentence1 = \"Why is social media bad?\"\n",
    "# sentence2 = \"Is social media a bad thing?\"\n",
    "###############################################\n",
    "tokenized_data = tokenize_function(sentence1, sentence2)\n",
    "input_ids = torch.tensor([tokenized_data[\"input_ids\"]])\n",
    "\n",
    "model.eval() \n",
    "outputs = model(input_ids=input_ids)\n",
    "predictions = torch.nn.functional.softmax(outputs.logits, dim=-1)\n",
    "\n",
    "print(\"Predictions:\", \"same\" if torch.argmax(predictions) == 1 else \"different\")\n",
    "print(predictions)\n",
    "\n"
   ]
  },
  {
   "cell_type": "code",
   "execution_count": null,
   "id": "dd7c2d9f-46a6-48c7-a9c9-38acb9f23148",
   "metadata": {},
   "outputs": [],
   "source": []
  }
 ],
 "metadata": {
  "kernelspec": {
   "display_name": "Python 3 (ipykernel)",
   "language": "python",
   "name": "python3"
  },
  "language_info": {
   "codemirror_mode": {
    "name": "ipython",
    "version": 3
   },
   "file_extension": ".py",
   "mimetype": "text/x-python",
   "name": "python",
   "nbconvert_exporter": "python",
   "pygments_lexer": "ipython3",
   "version": "3.10.13"
  }
 },
 "nbformat": 4,
 "nbformat_minor": 5
}
